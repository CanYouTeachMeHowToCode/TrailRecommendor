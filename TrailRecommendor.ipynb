{
 "cells": [
  {
   "cell_type": "markdown",
   "metadata": {},
   "source": [
    "# Trail Recommendations"
   ]
  },
  {
   "cell_type": "markdown",
   "metadata": {},
   "source": [
    "List everything that we need to do."
   ]
  },
  {
   "cell_type": "code",
   "execution_count": 37,
   "metadata": {},
   "outputs": [],
   "source": [
    "import Trailforks as tf\n",
    "import TrailforksScraper as tfs\n",
    "from bs4 import BeautifulSoup\n",
    "import requests\n",
    "import pandas as pd\n",
    "import numpy as np"
   ]
  },
  {
   "cell_type": "markdown",
   "metadata": {},
   "source": [
    "## Getting data from Trailforks\n",
    "\n",
    "- 'activitytype=6' for hiking\n",
    "- Trailstyle = Popularity\n",
    "\n",
    "Trailforks api documentation: https://www.trailforks.com/about/api/#!/trail\n",
    "\n",
    "Trailforks popularity heatmap: https://www.trailforks.com/region/united-states/?activitytype=6&z=10.4&lat=48.30699&lon=-120.42421&trailstyle=popularity\n",
    "\n",
    "Trailforks popularity scores (sorted in descending order): https://www.trailforks.com/region/united-states/trails/?sort=t.popularity_score&order=desc&difficulty=2,3,4,11,9,5,6,8&activitytype=6"
   ]
  },
  {
   "cell_type": "code",
   "execution_count": 2,
   "metadata": {},
   "outputs": [],
   "source": [
    "trailForksScrapper = tfs.trailforksScrapper()"
   ]
  },
  {
   "cell_type": "code",
   "execution_count": 38,
   "metadata": {},
   "outputs": [],
   "source": [
    "# This code was used to scrate all the trails in north-carolina and washington \n",
    "# from trailforks along with their popularity.\n",
    "\n",
    "# north_carolina = trailForksScrapper.fetchTrailsByRegionAndPages('north-carolina',23)\n",
    "# washington = trailForksScrapper.fetchTrailsByRegionAndPages('washington',72)"
   ]
  },
  {
   "cell_type": "markdown",
   "metadata": {},
   "source": [
    "Import data from all the saved files"
   ]
  },
  {
   "cell_type": "code",
   "execution_count": 24,
   "metadata": {},
   "outputs": [
    {
     "data": {
      "text/plain": [
       "6444"
      ]
     },
     "execution_count": 24,
     "metadata": {},
     "output_type": "execute_result"
    }
   ],
   "source": [
    "trails_scraped = pd.read_csv('trail-checkins.csv')['trail'].unique()\n",
    "trailforks_trails = pd.read_csv('trailforks-trails.csv')\n",
    "len(trails_scraped)\n",
    "trails = trailforks_trails[~trailforks_trails['title'].isin(trails_scraped)]['title']\n",
    "len(trails)"
   ]
  },
  {
   "cell_type": "markdown",
   "metadata": {},
   "source": [
    "Convert trail titles to have only words separated by -\n",
    "This will be used in url for scraping checkins."
   ]
  },
  {
   "cell_type": "code",
   "execution_count": 26,
   "metadata": {},
   "outputs": [
    {
     "name": "stderr",
     "output_type": "stream",
     "text": [
      "/var/folders/7v/3vykhk5j10v0p4dt8gphqvyh0000gn/T/ipykernel_32841/3071988419.py:1: FutureWarning: The default value of regex will change from True to False in a future version.\n",
      "  north_carolina['title'] = north_carolina['title'].str.replace('\\W', ' ').str.lower()\n",
      "/var/folders/7v/3vykhk5j10v0p4dt8gphqvyh0000gn/T/ipykernel_32841/3071988419.py:2: FutureWarning: The default value of regex will change from True to False in a future version.\n",
      "  north_carolina['title'] = north_carolina['title'].str.replace('[^a-z A-Z]', '').str.strip().str.replace(' ','-')\n",
      "/var/folders/7v/3vykhk5j10v0p4dt8gphqvyh0000gn/T/ipykernel_32841/3071988419.py:3: FutureWarning: The default value of regex will change from True to False in a future version.\n",
      "  washington['title'] = washington['title'].str.replace('\\W', ' ').str.lower()\n",
      "/var/folders/7v/3vykhk5j10v0p4dt8gphqvyh0000gn/T/ipykernel_32841/3071988419.py:4: FutureWarning: The default value of regex will change from True to False in a future version.\n",
      "  washington['title'] = washington['title'].str.replace('[^a-z A-Z]', '').str.strip().str.replace(' ','-')\n"
     ]
    }
   ],
   "source": [
    "# north_carolina['title'] = north_carolina['title'].str.replace('\\W', ' ').str.lower()\n",
    "# north_carolina['title'] = north_carolina['title'].str.replace('[^a-z A-Z]', '').str.strip().str.replace(' ','-')\n",
    "# washington['title'] = washington['title'].str.replace('\\W', ' ').str.lower()\n",
    "# washington['title'] = washington['title'].str.replace('[^a-z A-Z]', '').str.strip().str.replace(' ','-')"
   ]
  },
  {
   "cell_type": "markdown",
   "metadata": {},
   "source": [
    "Getting trail stats for all the trails collected previously."
   ]
  },
  {
   "cell_type": "code",
   "execution_count": 28,
   "metadata": {},
   "outputs": [
    {
     "name": "stderr",
     "output_type": "stream",
     "text": [
      "/Users/iqraimtiaz/Documents/duke/Courses/510-SDA/TrailRecommendor/TrailforksScraper.py:137: FutureWarning: The default value of regex will change from True to False in a future version.\n",
      "  checkins_per_date['Check-Ins'] = checkins_per_date['Check-Ins'].str.replace('\\W', '')\n",
      "/Users/iqraimtiaz/Documents/duke/Courses/510-SDA/TrailRecommendor/TrailforksScraper.py:137: FutureWarning: The default value of regex will change from True to False in a future version.\n",
      "  checkins_per_date['Check-Ins'] = checkins_per_date['Check-Ins'].str.replace('\\W', '')\n"
     ]
    },
    {
     "data": {
      "text/html": [
       "<div>\n",
       "<style scoped>\n",
       "    .dataframe tbody tr th:only-of-type {\n",
       "        vertical-align: middle;\n",
       "    }\n",
       "\n",
       "    .dataframe tbody tr th {\n",
       "        vertical-align: top;\n",
       "    }\n",
       "\n",
       "    .dataframe thead th {\n",
       "        text-align: right;\n",
       "    }\n",
       "</style>\n",
       "<table border=\"1\" class=\"dataframe\">\n",
       "  <thead>\n",
       "    <tr style=\"text-align: right;\">\n",
       "      <th></th>\n",
       "      <th>Period</th>\n",
       "      <th>Check-Ins</th>\n",
       "      <th>trail</th>\n",
       "    </tr>\n",
       "  </thead>\n",
       "  <tbody>\n",
       "    <tr>\n",
       "      <th>0</th>\n",
       "      <td>9am</td>\n",
       "      <td>2</td>\n",
       "      <td>ambystoma</td>\n",
       "    </tr>\n",
       "    <tr>\n",
       "      <th>1</th>\n",
       "      <td>10am</td>\n",
       "      <td>3</td>\n",
       "      <td>ambystoma</td>\n",
       "    </tr>\n",
       "    <tr>\n",
       "      <th>2</th>\n",
       "      <td>11am</td>\n",
       "      <td>5</td>\n",
       "      <td>ambystoma</td>\n",
       "    </tr>\n",
       "    <tr>\n",
       "      <th>3</th>\n",
       "      <td>12pm</td>\n",
       "      <td>2</td>\n",
       "      <td>ambystoma</td>\n",
       "    </tr>\n",
       "    <tr>\n",
       "      <th>4</th>\n",
       "      <td>1pm</td>\n",
       "      <td>1</td>\n",
       "      <td>ambystoma</td>\n",
       "    </tr>\n",
       "    <tr>\n",
       "      <th>...</th>\n",
       "      <td>...</td>\n",
       "      <td>...</td>\n",
       "      <td>...</td>\n",
       "    </tr>\n",
       "    <tr>\n",
       "      <th>2867</th>\n",
       "      <td>2022108</td>\n",
       "      <td>2</td>\n",
       "      <td>mantis</td>\n",
       "    </tr>\n",
       "    <tr>\n",
       "      <th>2868</th>\n",
       "      <td>2022109</td>\n",
       "      <td>0</td>\n",
       "      <td>mantis</td>\n",
       "    </tr>\n",
       "    <tr>\n",
       "      <th>2869</th>\n",
       "      <td>20221010</td>\n",
       "      <td>1</td>\n",
       "      <td>mantis</td>\n",
       "    </tr>\n",
       "    <tr>\n",
       "      <th>2870</th>\n",
       "      <td>20221011</td>\n",
       "      <td>1</td>\n",
       "      <td>mantis</td>\n",
       "    </tr>\n",
       "    <tr>\n",
       "      <th>2871</th>\n",
       "      <td>20221012</td>\n",
       "      <td>0</td>\n",
       "      <td>mantis</td>\n",
       "    </tr>\n",
       "  </tbody>\n",
       "</table>\n",
       "<p>5815 rows × 3 columns</p>\n",
       "</div>"
      ],
      "text/plain": [
       "        Period Check-Ins      trail\n",
       "0          9am         2  ambystoma\n",
       "1         10am         3  ambystoma\n",
       "2         11am         5  ambystoma\n",
       "3         12pm         2  ambystoma\n",
       "4          1pm         1  ambystoma\n",
       "...        ...       ...        ...\n",
       "2867   2022108         2     mantis\n",
       "2868   2022109         0     mantis\n",
       "2869  20221010         1     mantis\n",
       "2870  20221011         1     mantis\n",
       "2871  20221012         0     mantis\n",
       "\n",
       "[5815 rows x 3 columns]"
      ]
     },
     "execution_count": 28,
     "metadata": {},
     "output_type": "execute_result"
    }
   ],
   "source": [
    "# This code can be used to scrape trails checkins and store them in dataframe.\n",
    "\n",
    "import pandas as pd \n",
    "\n",
    "df = pd.DataFrame()\n",
    "for trail in trails:\n",
    "    df_trail = trailForksScrapper.fetchTrailStats(trail)\n",
    "    if df_trail is not None:\n",
    "        df_trail['trail'] = trail\n",
    "        df = pd.concat([df,df_trail])\n",
    "\n",
    "df"
   ]
  },
  {
   "cell_type": "code",
   "execution_count": null,
   "metadata": {},
   "outputs": [],
   "source": [
    "checkins = trailForksScrapper.fetchTrailStats('rattlesnake-ledge-trail')\n",
    "checkins"
   ]
  }
 ],
 "metadata": {
  "kernelspec": {
   "display_name": "Python 3.9.12 ('base')",
   "language": "python",
   "name": "python3"
  },
  "language_info": {
   "codemirror_mode": {
    "name": "ipython",
    "version": 3
   },
   "file_extension": ".py",
   "mimetype": "text/x-python",
   "name": "python",
   "nbconvert_exporter": "python",
   "pygments_lexer": "ipython3",
   "version": "3.9.12"
  },
  "orig_nbformat": 4,
  "vscode": {
   "interpreter": {
    "hash": "5bd7c6c6b282cf19243dc2170c264e86e1a4d731acceb63182cd05c39991d4e4"
   }
  }
 },
 "nbformat": 4,
 "nbformat_minor": 2
}
