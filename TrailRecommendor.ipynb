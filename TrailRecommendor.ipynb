{
 "cells": [
  {
   "cell_type": "markdown",
   "metadata": {},
   "source": [
    "# Trail Recommendations"
   ]
  },
  {
   "cell_type": "markdown",
   "metadata": {},
   "source": [
    "List everything that we need to do."
   ]
  },
  {
   "cell_type": "code",
   "execution_count": 1,
   "metadata": {},
   "outputs": [],
   "source": [
    "import Trailforks as tf"
   ]
  },
  {
   "cell_type": "markdown",
   "metadata": {},
   "source": [
    "## Getting data from Trailforks"
   ]
  },
  {
   "cell_type": "code",
   "execution_count": 2,
   "metadata": {},
   "outputs": [
    {
     "data": {
      "text/plain": [
       "0    1\n",
       "1    1\n",
       "2    2\n",
       "Name: trailtype, dtype: object"
      ]
     },
     "execution_count": 2,
     "metadata": {},
     "output_type": "execute_result"
    }
   ],
   "source": [
    "search = tf.trailforksSearch()\n",
    "data = search.fetchData()\n",
    "data.head()\n",
    "data['trailtype']"
   ]
  },
  {
   "cell_type": "code",
   "execution_count": 4,
   "metadata": {},
   "outputs": [
    {
     "data": {
      "text/html": [
       "<div>\n",
       "<style scoped>\n",
       "    .dataframe tbody tr th:only-of-type {\n",
       "        vertical-align: middle;\n",
       "    }\n",
       "\n",
       "    .dataframe tbody tr th {\n",
       "        vertical-align: top;\n",
       "    }\n",
       "\n",
       "    .dataframe thead th {\n",
       "        text-align: right;\n",
       "    }\n",
       "</style>\n",
       "<table border=\"1\" class=\"dataframe\">\n",
       "  <thead>\n",
       "    <tr style=\"text-align: right;\">\n",
       "      <th></th>\n",
       "      <th>trailid</th>\n",
       "      <th>vid</th>\n",
       "      <th>title</th>\n",
       "      <th>rid</th>\n",
       "      <th>difficulty</th>\n",
       "      <th>activitytype</th>\n",
       "      <th>trailtype</th>\n",
       "      <th>biketype</th>\n",
       "      <th>physical_rating</th>\n",
       "      <th>ttfs</th>\n",
       "      <th>...</th>\n",
       "      <th>act_skialpine</th>\n",
       "      <th>act_skixc</th>\n",
       "      <th>act_skibc</th>\n",
       "      <th>act_horse</th>\n",
       "      <th>act_snowmobile</th>\n",
       "      <th>act_mototrials</th>\n",
       "      <th>latitude</th>\n",
       "      <th>longitude</th>\n",
       "      <th>staticmap_image1</th>\n",
       "      <th>activitytypes</th>\n",
       "    </tr>\n",
       "  </thead>\n",
       "  <tbody>\n",
       "    <tr>\n",
       "      <th>0</th>\n",
       "      <td>3</td>\n",
       "      <td>2</td>\n",
       "      <td>Floppy Bunny</td>\n",
       "      <td>1</td>\n",
       "      <td>5</td>\n",
       "      <td>1</td>\n",
       "      <td>1</td>\n",
       "      <td>1,2</td>\n",
       "      <td>2</td>\n",
       "      <td>16,15</td>\n",
       "      <td>...</td>\n",
       "      <td>0</td>\n",
       "      <td>0</td>\n",
       "      <td>0</td>\n",
       "      <td>0</td>\n",
       "      <td>0</td>\n",
       "      <td>0</td>\n",
       "      <td>49.359050</td>\n",
       "      <td>-123.040270</td>\n",
       "      <td>https://ep1.pinkbike.org/trailstaticmap/0/3_2_...</td>\n",
       "      <td>[1, 2, 6, 5]</td>\n",
       "    </tr>\n",
       "    <tr>\n",
       "      <th>1</th>\n",
       "      <td>5</td>\n",
       "      <td>8</td>\n",
       "      <td>Pipeline</td>\n",
       "      <td>1</td>\n",
       "      <td>5</td>\n",
       "      <td>1</td>\n",
       "      <td>1</td>\n",
       "      <td>1,2</td>\n",
       "      <td>2</td>\n",
       "      <td>54,5,15,19</td>\n",
       "      <td>...</td>\n",
       "      <td>0</td>\n",
       "      <td>0</td>\n",
       "      <td>0</td>\n",
       "      <td>0</td>\n",
       "      <td>0</td>\n",
       "      <td>0</td>\n",
       "      <td>49.358990</td>\n",
       "      <td>-123.049780</td>\n",
       "      <td>https://ep1.pinkbike.org/trailstaticmap/0/5_8_...</td>\n",
       "      <td>[1, 6, 5]</td>\n",
       "    </tr>\n",
       "    <tr>\n",
       "      <th>2</th>\n",
       "      <td>6</td>\n",
       "      <td>5</td>\n",
       "      <td>Bobsled</td>\n",
       "      <td>1</td>\n",
       "      <td>4</td>\n",
       "      <td>1</td>\n",
       "      <td>2</td>\n",
       "      <td>1,2,7</td>\n",
       "      <td>1</td>\n",
       "      <td>1,54,17,104,21</td>\n",
       "      <td>...</td>\n",
       "      <td>0</td>\n",
       "      <td>0</td>\n",
       "      <td>0</td>\n",
       "      <td>0</td>\n",
       "      <td>0</td>\n",
       "      <td>0</td>\n",
       "      <td>49.358250</td>\n",
       "      <td>-123.040890</td>\n",
       "      <td>https://ep1.pinkbike.org/trailstaticmap/0/6_5_...</td>\n",
       "      <td>[1]</td>\n",
       "    </tr>\n",
       "  </tbody>\n",
       "</table>\n",
       "<p>3 rows × 146 columns</p>\n",
       "</div>"
      ],
      "text/plain": [
       "  trailid vid         title rid difficulty  activitytype trailtype biketype  \\\n",
       "0       3   2  Floppy Bunny   1          5             1         1      1,2   \n",
       "1       5   8      Pipeline   1          5             1         1      1,2   \n",
       "2       6   5       Bobsled   1          4             1         2    1,2,7   \n",
       "\n",
       "  physical_rating            ttfs  ... act_skialpine act_skixc act_skibc  \\\n",
       "0               2           16,15  ...             0         0         0   \n",
       "1               2      54,5,15,19  ...             0         0         0   \n",
       "2               1  1,54,17,104,21  ...             0         0         0   \n",
       "\n",
       "  act_horse act_snowmobile act_mototrials   latitude    longitude  \\\n",
       "0         0              0              0  49.359050  -123.040270   \n",
       "1         0              0              0  49.358990  -123.049780   \n",
       "2         0              0              0  49.358250  -123.040890   \n",
       "\n",
       "                                    staticmap_image1 activitytypes  \n",
       "0  https://ep1.pinkbike.org/trailstaticmap/0/3_2_...  [1, 2, 6, 5]  \n",
       "1  https://ep1.pinkbike.org/trailstaticmap/0/5_8_...     [1, 6, 5]  \n",
       "2  https://ep1.pinkbike.org/trailstaticmap/0/6_5_...           [1]  \n",
       "\n",
       "[3 rows x 146 columns]"
      ]
     },
     "execution_count": 4,
     "metadata": {},
     "output_type": "execute_result"
    }
   ],
   "source": [
    "search.fetchDataByTrailType(\"1\")"
   ]
  }
 ],
 "metadata": {
  "kernelspec": {
   "display_name": "Python 3.10.6 64-bit",
   "language": "python",
   "name": "python3"
  },
  "language_info": {
   "codemirror_mode": {
    "name": "ipython",
    "version": 3
   },
   "file_extension": ".py",
   "mimetype": "text/x-python",
   "name": "python",
   "nbconvert_exporter": "python",
   "pygments_lexer": "ipython3",
   "version": "3.10.6"
  },
  "orig_nbformat": 4,
  "vscode": {
   "interpreter": {
    "hash": "aee8b7b246df8f9039afb4144a1f6fd8d2ca17a180786b69acc140d282b71a49"
   }
  }
 },
 "nbformat": 4,
 "nbformat_minor": 2
}
